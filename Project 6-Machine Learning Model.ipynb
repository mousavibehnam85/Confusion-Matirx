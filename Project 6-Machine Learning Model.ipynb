{
 "cells": [
  {
   "cell_type": "code",
   "execution_count": 18,
   "id": "dd8bf14a-8022-4a45-af67-fa2916c1c7f6",
   "metadata": {},
   "outputs": [
    {
     "name": "stdout",
     "output_type": "stream",
     "text": [
      "Accuracy:  0.90\n",
      "Classification Report\n",
      "              precision    recall  f1-score   support\n",
      "\n",
      "           0       0.85      0.95      0.90        93\n",
      "           1       0.95      0.86      0.90       107\n",
      "\n",
      "    accuracy                           0.90       200\n",
      "   macro avg       0.90      0.90      0.90       200\n",
      "weighted avg       0.90      0.90      0.90       200\n",
      "\n",
      "Confusion Matirx\n",
      "[[88  5]\n",
      " [15 92]]\n"
     ]
    }
   ],
   "source": [
    "####Machine Learning Model\n",
    "#\n",
    "import numpy as np\n",
    "from sklearn.datasets import make_classification\n",
    "from sklearn.model_selection import train_test_split\n",
    "from sklearn.ensemble import RandomForestClassifier\n",
    "from sklearn.metrics import accuracy_score, classification_report, confusion_matrix\n",
    "\n",
    "def generate_synthetic_data():\n",
    "    #generate synthetic classification data with 1000 samples and 20 features\n",
    "    X, y = make_classification(n_samples=1000, n_features =20, random_state=42)\n",
    "    return X, y\n",
    "\n",
    "def split_data(X,y):\n",
    "# Split data into training and testing by 100-20 split\n",
    "    X_train, X_test, y_train, y_test = train_test_split(X,y, test_size = 0.2, random_state=42)\n",
    "    return X_train, X_test, y_train, y_test\n",
    "\n",
    "def train_random_forest(X_train, y_train):\n",
    "    #Initialize the random forrest classifier with 100 trees\n",
    "    clf=RandomForestClassifier(n_estimators=100, random_state=42)\n",
    "    \n",
    "    #train the classifier\n",
    "    clf.fit(X_train, y_train)\n",
    "    return clf\n",
    "\n",
    "\n",
    "def evaluate_model(clf,X_test,y_test):\n",
    "    #Make prediction of the test set\n",
    "    y_pred = clf.predict(X_test)\n",
    "\n",
    "    #calculate the accuracy of the model\n",
    "    accuracy = accuracy_score(y_test, y_pred)\n",
    "    print(f\"Accuracy: {accuracy: .2f}\")\n",
    "\n",
    "    #Display Classification Report\n",
    "    print(\"Classification Report\")\n",
    "    print(classification_report(y_test,y_pred))\n",
    "\n",
    "    #Display confusion matrix\n",
    "    print(\"Confusion Matirx\")\n",
    "    print(confusion_matrix(y_test, y_pred))\n",
    "\n",
    "#Main function to execute the work flow\n",
    "def main():\n",
    "    #Generate synthetic data\n",
    "    X, y = generate_synthetic_data()\n",
    "\n",
    "    #Split the data to training and testing data\n",
    "    X_train, X_test, y_train, y_test = split_data(X,y)\n",
    "\n",
    "    #train random forest classifier\n",
    "    clf = train_random_forest(X_train, y_train)\n",
    "\n",
    "    #Evaluate the model at testset\n",
    "    evaluate_model(clf, X_test, y_test)\n",
    "\n",
    "###Execute the manin function \n",
    "if __name__ == \"__main__\":\n",
    "    main()"
   ]
  },
  {
   "cell_type": "code",
   "execution_count": null,
   "id": "fbe8d829-8be1-424a-8668-2b44eeb9eda4",
   "metadata": {},
   "outputs": [],
   "source": []
  }
 ],
 "metadata": {
  "kernelspec": {
   "display_name": "Python 3 (ipykernel)",
   "language": "python",
   "name": "python3"
  },
  "language_info": {
   "codemirror_mode": {
    "name": "ipython",
    "version": 3
   },
   "file_extension": ".py",
   "mimetype": "text/x-python",
   "name": "python",
   "nbconvert_exporter": "python",
   "pygments_lexer": "ipython3",
   "version": "3.12.0"
  }
 },
 "nbformat": 4,
 "nbformat_minor": 5
}
